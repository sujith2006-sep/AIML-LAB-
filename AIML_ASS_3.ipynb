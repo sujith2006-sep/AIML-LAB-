{
  "nbformat": 4,
  "nbformat_minor": 0,
  "metadata": {
    "colab": {
      "provenance": []
    },
    "kernelspec": {
      "name": "python3",
      "display_name": "Python 3"
    },
    "language_info": {
      "name": "python"
    }
  },
  "cells": [
    {
      "cell_type": "code",
      "source": [
        "from collections import namedtuple, Counter, defaultdict\n",
        "import random\n",
        "import math\n",
        "import functools\n",
        "cache=functools.lru_cache(10**6)"
      ],
      "metadata": {
        "id": "EhiG-_D-5ch2"
      },
      "execution_count": 2,
      "outputs": []
    },
    {
      "cell_type": "code",
      "source": [
        "class Game:\n",
        "  def actions(Self, state):\n",
        "    raise NotImplementedError\n",
        "\n",
        "  def result (Self, state, move):\n",
        "    raise NotImplementedError\n",
        "\n",
        "  def is_terminal(Self, state):\n",
        "    return not self.actions(state)\n",
        "\n",
        "  def utility(self, state, player):\n",
        "    raise NotImplementedError"
      ],
      "metadata": {
        "id": "HLQdvDsD8cFL"
      },
      "execution_count": 18,
      "outputs": []
    },
    {
      "cell_type": "code",
      "source": [
        "def play_game(game, strategies: dict, verbose=False):\n",
        "  state = game.intial\n",
        "  while not game.is_terminal(state):\n",
        "    player = state.to_move\n",
        "    move = strategies[player](game, state)\n",
        "    state = game.result(state,move)\n",
        "    if verbose:\n",
        "      print('Player', player, 'move:', move)\n",
        "      print(state)\n",
        "    return state"
      ],
      "metadata": {
        "id": "lLRAtuus8f6I"
      },
      "execution_count": 19,
      "outputs": []
    },
    {
      "cell_type": "code",
      "source": [
        "def minimax_search(game, state):\n",
        "  player = state.to_move\n",
        "  def max_value(state):\n",
        "    if game.is_terminal(state):\n",
        "      return game.utility(state, player), None\n",
        "    v, move = -infinity, None\n",
        "    for a in game.actions(state):\n",
        "      v2, _ = min_value(game.result(state, a))\n",
        "      if v2 > v:\n",
        "        v, move = v2, a\n",
        "    return v, move\n",
        "def min_value(state):\n",
        "  if game.is_terminal(state):\n",
        "    return game.utility(state, Iplayer), None\n",
        "  v, move = +infinity, None\n",
        "  for a in game.actions(state):\n",
        "    v2, _ = max_value(game.result(state, a))\n",
        "    if v2 < v:\n",
        "      v, move = v2, a\n",
        "  return v, move"
      ],
      "metadata": {
        "id": "4Ma5mQDu8jEu"
      },
      "execution_count": 20,
      "outputs": []
    },
    {
      "cell_type": "code",
      "source": [
        "class tictactoe(Game):\n",
        "  def _init_(self, height=3, width=3, k=3):\n",
        "    self.k = k\n",
        "    self.squares = {(x, y) for x in range(width) for y in range(height)}\n",
        "    self.initial = Board(height=height, width=width, to_move='X', utility=0)\n",
        "  def actions(self, board):\n",
        "    return self.squares - set(board)\n",
        "  def result(self, board, square):\n",
        "      player = board.to_move\n",
        "      board = board.new({square: player}, to_move=('O' if player == 'X' else 'X'))\n",
        "      win = k_in_row(board, player, square, self.k)\n",
        "      board.utility = (0 if not win else +1 if player == 'X' else -1)\n",
        "      return board\n",
        "  def utility(self, board, player):\n",
        "    return board.utility if player == 'X' else -board.utility\n",
        "  def is_terminal(self, board):\n",
        "    return board.utility != 0 or len(self.squares) == len(board)\n",
        "  def display(self, board):\n",
        "      print(board)\n",
        "  def k_in_row(board, player, square, k):\n",
        "    def in_row(x, y, dx, dy):\n",
        "      return 0 if board.get((x, y)) != player else 1 + in_row(x + dx, y + dy, dx, dy)\n",
        "    return any(in_row(*square, dx, dy) + in_row(*square, -dx, -dy) >= k\n",
        "               for (dx, dy) in ((0, 1), (1, 0), (1, 1), (1, -1)))"
      ],
      "metadata": {
        "id": "01jOQCWJDcXY"
      },
      "execution_count": 27,
      "outputs": []
    },
    {
      "cell_type": "code",
      "source": [
        "class Board(defaultdict):\n",
        "  empty = '.'\n",
        "  off = '#'\n",
        "  def _init_(self, width=8, height=8, to_move=None, **kwds):\n",
        "    self._dict_.update(width=width, height=height, to_move=to_move, **kwds)\n",
        "  def new(self, changes: dict, **kwds) -> 'Board':\n",
        "    board = Board(width=self.width, height=self.height, **kwds)\n",
        "    board.update(self)\n",
        "    board.update(changes)\n",
        "    return board\n",
        "  def _missing_(self, loc):\n",
        "    x, y = loc\n",
        "    if 0 <= x < self.width and 0 <= y < self.height:\n",
        "      return self.empty\n",
        "    else:\n",
        "      return self.off\n",
        "  def _hash_(self):\n",
        "    return hash(tuple(sorted(self.items()))) + hash(self.to_move)\n",
        "  def _repr_(self):\n",
        "    def row(y): return ' '.join(self[x, y] for x in range(self.width))\n",
        "    return '\\n'.join(map(row, range(self.height))) +  '\\n'"
      ],
      "metadata": {
        "id": "W90z5r92DhgS"
      },
      "execution_count": 28,
      "outputs": []
    },
    {
      "cell_type": "code",
      "source": [
        "def random_player(game, state):\n",
        "  return random.choice(list(game.actions(state)))\n",
        "def player(sample_algorithm):\n",
        "  return lambda game, state: sample_algorithm(game, state)[1]\n",
        "  play_game(tictactoe(), dict(X=random_player, O=player(alphabeta_search)), verbose=True).utility"
      ],
      "metadata": {
        "id": "io8eQ_W8ESrJ"
      },
      "execution_count": 36,
      "outputs": []
    }
  ]
}