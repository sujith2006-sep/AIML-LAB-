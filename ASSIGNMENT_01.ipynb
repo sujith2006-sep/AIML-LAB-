{
  "nbformat": 4,
  "nbformat_minor": 0,
  "metadata": {
    "colab": {
      "provenance": [],
      "authorship_tag": "ABX9TyMhHLUcHHLQwP4VSFDYPLDp",
      "include_colab_link": true
    },
    "kernelspec": {
      "name": "python3",
      "display_name": "Python 3"
    },
    "language_info": {
      "name": "python"
    }
  },
  "cells": [
    {
      "cell_type": "markdown",
      "metadata": {
        "id": "view-in-github",
        "colab_type": "text"
      },
      "source": [
        "<a href=\"https://colab.research.google.com/github/SUSHWANTH1567/23CSBTB29/blob/main/ASSIGNMENT_01.ipynb\" target=\"_parent\"><img src=\"https://colab.research.google.com/assets/colab-badge.svg\" alt=\"Open In Colab\"/></a>"
      ]
    },
    {
      "cell_type": "markdown",
      "source": [
        "## Implement basic data structures using numpy and pandas\n",
        "1. Lists\n",
        "2. Arrays\n",
        "3. Identify their type using type()\n",
        "4. Perform mathematical operations on these datasets created - multiplication, division,\n",
        "poweroff\n",
        "5. Combine text with Numpy fuction to generate a textual output - ”Addition of Two:\n",
        "array1 +array 2\n",
        "6. Implement np.sin(), log(), log2(), np.exp())"
      ],
      "metadata": {
        "id": "KDTf81pZseIW"
      }
    },
    {
      "cell_type": "code",
      "execution_count": null,
      "metadata": {
        "colab": {
          "base_uri": "https://localhost:8080/"
        },
        "id": "z-QqvnFJsPTe",
        "outputId": "3745e6d9-0687-4c48-bf87-01d47052ca28"
      },
      "outputs": [
        {
          "output_type": "stream",
          "name": "stdout",
          "text": [
            "{2: 4, 5: 25, 3: 9, 8: 64, 6: 36}\n",
            "<class 'dict'>\n"
          ]
        }
      ],
      "source": [
        "lst={2:4,5:25,3:9,8:64,6:36}\n",
        "print (lst)\n",
        "print(type(lst))"
      ]
    },
    {
      "cell_type": "code",
      "source": [
        "lst={12:24,11:22,13:26,14:28}\n",
        "print (lst)\n",
        "print(type(lst))"
      ],
      "metadata": {
        "colab": {
          "base_uri": "https://localhost:8080/"
        },
        "id": "HyWJ3GXrvoEJ",
        "outputId": "d3df4af4-6018-45b8-9742-f8309be55b13"
      },
      "execution_count": null,
      "outputs": [
        {
          "output_type": "stream",
          "name": "stdout",
          "text": [
            "{12: 24, 11: 22, 13: 26, 14: 28}\n",
            "<class 'dict'>\n"
          ]
        }
      ]
    },
    {
      "cell_type": "code",
      "source": [
        "lst={10:\"apple\",5:\"banana\",50:\"dragon\"}\n",
        "print (lst)\n",
        "print(type(lst))"
      ],
      "metadata": {
        "colab": {
          "base_uri": "https://localhost:8080/"
        },
        "id": "I2wV2R8NwF0d",
        "outputId": "e4c47c15-fcfd-4803-ba4a-6b35e4b991bc"
      },
      "execution_count": null,
      "outputs": [
        {
          "output_type": "stream",
          "name": "stdout",
          "text": [
            "{10: 'apple', 5: 'banana', 50: 'dragon'}\n",
            "<class 'dict'>\n"
          ]
        }
      ]
    },
    {
      "cell_type": "code",
      "source": [
        "\n",
        "import numpy as np\n",
        "lst1=[1,2,3]\n",
        "array1 = np.array(lst1)\n",
        "array1"
      ],
      "metadata": {
        "colab": {
          "base_uri": "https://localhost:8080/"
        },
        "id": "BoJ0qfau65oE",
        "outputId": "d4e4c6c2-4184-4465-b7e1-ef826e87468b"
      },
      "execution_count": null,
      "outputs": [
        {
          "output_type": "execute_result",
          "data": {
            "text/plain": [
              "array([1, 2, 3])"
            ]
          },
          "metadata": {},
          "execution_count": 7
        }
      ]
    },
    {
      "cell_type": "code",
      "source": [
        "import numpy as np\n",
        "lst1=[1,2,3]\n",
        "lst2=[2,5,7]\n",
        "array1 = np.array(lst1)\n",
        "array2=  np.array(lst2)\n",
        "add=array1+array2\n",
        "print(add)\n",
        "\n"
      ],
      "metadata": {
        "colab": {
          "base_uri": "https://localhost:8080/"
        },
        "id": "f2C2mA348qmL",
        "outputId": "4e0d9aae-6ce6-4583-bcc9-1886022c52a0"
      },
      "execution_count": null,
      "outputs": [
        {
          "output_type": "stream",
          "name": "stdout",
          "text": [
            "[ 3  7 10]\n"
          ]
        }
      ]
    },
    {
      "cell_type": "code",
      "source": [
        "import numpy as np\n",
        "lst1=[1,2,3]\n",
        "lst2=[2,5,7]\n",
        "array1 = np.array(lst1)\n",
        "array2=  np.array(lst2)\n",
        "mul=array1*array2\n",
        "print(mul)\n",
        "\n"
      ],
      "metadata": {
        "colab": {
          "base_uri": "https://localhost:8080/"
        },
        "id": "wAOfsFeW9QJ3",
        "outputId": "04dfab60-a48e-4243-bcdf-9f022d79be9a"
      },
      "execution_count": null,
      "outputs": [
        {
          "output_type": "stream",
          "name": "stdout",
          "text": [
            "[ 2 10 21]\n"
          ]
        }
      ]
    },
    {
      "cell_type": "code",
      "source": [
        "import numpy as np\n",
        "lst1=[1,2,3]\n",
        "lst2=[2,5,7]\n",
        "array1 = np.array(lst1)\n",
        "array2=  np.array(lst2)\n",
        "sub=array1-array2\n",
        "print(sub)\n",
        "\n"
      ],
      "metadata": {
        "colab": {
          "base_uri": "https://localhost:8080/"
        },
        "id": "5g6wh0oU9bVn",
        "outputId": "68994591-fda2-44ee-8ebd-4790a86de944"
      },
      "execution_count": null,
      "outputs": [
        {
          "output_type": "stream",
          "name": "stdout",
          "text": [
            "[-1 -3 -4]\n"
          ]
        }
      ]
    },
    {
      "cell_type": "code",
      "source": [
        "import numpy as np\n",
        "lst1=[1,2,3]\n",
        "lst2=[2,5,7]\n",
        "array1 = np.array(lst1)\n",
        "array2=  np.array(lst2)\n",
        "div=array1/array2\n",
        "print(div)"
      ],
      "metadata": {
        "colab": {
          "base_uri": "https://localhost:8080/"
        },
        "id": "r_8cdYA196pr",
        "outputId": "dd48e620-a64e-482b-f708-e84cf8846343"
      },
      "execution_count": null,
      "outputs": [
        {
          "output_type": "stream",
          "name": "stdout",
          "text": [
            "[0.5        0.4        0.42857143]\n"
          ]
        }
      ]
    },
    {
      "cell_type": "code",
      "source": [
        "import numpy as np\n",
        "lst1=[1,2,3]\n",
        "lst2=[2,5,7]\n",
        "array1 = np.array(lst1)\n",
        "array2=  np.array(lst2)\n",
        "power=array1**array2\n",
        "print(power)\n",
        "\n"
      ],
      "metadata": {
        "colab": {
          "base_uri": "https://localhost:8080/"
        },
        "id": "Z_UPFD_T-DEI",
        "outputId": "bbcd2a87-168e-4f0a-ba5f-cd5af53d0d97"
      },
      "execution_count": null,
      "outputs": [
        {
          "output_type": "stream",
          "name": "stdout",
          "text": [
            "[   1   32 2187]\n"
          ]
        }
      ]
    },
    {
      "cell_type": "code",
      "source": [
        "array = np.array([2, 5, 7, 3, 8])\n",
        "print(\"NumPy Array:\", array)\n",
        "print(\"Type:\", type(array))\n",
        "print(\"First element:\", array[0])\n",
        "print(\"Last element:\", array[-1])\n",
        "print(\"Sum of elements:\", np.sum(array))\n",
        "print(\"Mean of elements:\", np.mean(array))"
      ],
      "metadata": {
        "colab": {
          "base_uri": "https://localhost:8080/"
        },
        "id": "OrFCbbOJ-Osk",
        "outputId": "3ca20ba1-e96a-496b-eca2-ef7cc0e3ce84"
      },
      "execution_count": null,
      "outputs": [
        {
          "output_type": "stream",
          "name": "stdout",
          "text": [
            "NumPy Array: [2 5 7 3 8]\n",
            "Type: <class 'numpy.ndarray'>\n",
            "First element: 2\n",
            "Last element: 8\n",
            "Sum of elements: 25\n",
            "Mean of elements: 5.0\n"
          ]
        }
      ]
    },
    {
      "cell_type": "code",
      "source": [
        "array = np.array([2, 5, 7, 3, 8])\n",
        "print(\"Array:\", array)\n",
        "print(\"Type of array:\", type(array))\n",
        "print(\"First element:\", array[0])\n",
        "print(\"Last element:\", array[-1])"
      ],
      "metadata": {
        "colab": {
          "base_uri": "https://localhost:8080/"
        },
        "id": "-N3pIJ7K_lrY",
        "outputId": "ac61f8e0-a5d3-4364-c0f8-4945ebdc0bdd"
      },
      "execution_count": null,
      "outputs": [
        {
          "output_type": "stream",
          "name": "stdout",
          "text": [
            "Array: [2 5 7 3 8]\n",
            "Type of array: <class 'numpy.ndarray'>\n",
            "First element: 2\n",
            "Last element: 8\n"
          ]
        }
      ]
    },
    {
      "cell_type": "code",
      "source": [
        "array_1d = np.array([1, 2, 3, 4, 5])\n",
        "print(\"1D Array:\", array_1d)\n",
        "print(\"Type of 1D Array:\", type(array_1d))\n",
        "print(\"Sum of elements:\", np.sum(array_1d))\n",
        "print(\"Mean of elements:\", np.mean(array_1d))\n"
      ],
      "metadata": {
        "colab": {
          "base_uri": "https://localhost:8080/"
        },
        "id": "p4xrBSJo_qkk",
        "outputId": "7a5e0b21-5b6b-4492-8ab4-b77945061165"
      },
      "execution_count": null,
      "outputs": [
        {
          "output_type": "stream",
          "name": "stdout",
          "text": [
            "1D Array: [1 2 3 4 5]\n",
            "Type of 1D Array: <class 'numpy.ndarray'>\n",
            "Sum of elements: 15\n",
            "Mean of elements: 3.0\n"
          ]
        }
      ]
    },
    {
      "cell_type": "code",
      "source": [
        "array_2d = np.array([[1, 2, 3], [4, 5, 6], [7, 8, 9]])\n",
        "print(\"2D Array:\\n\", array_2d)\n",
        "print(\"Type of 2D Array:\", type(array_2d))\n",
        "print(\"Sum of elements in 2D array:\", np.sum(array_2d))\n",
        "print(\"Transpose of 2D array:\\n\", np.transpose(array_2d))\n"
      ],
      "metadata": {
        "colab": {
          "base_uri": "https://localhost:8080/"
        },
        "id": "z2XmubBr_utH",
        "outputId": "525e7a2e-53d8-4674-a6f9-0e0008cdada9"
      },
      "execution_count": null,
      "outputs": [
        {
          "output_type": "stream",
          "name": "stdout",
          "text": [
            "2D Array:\n",
            " [[1 2 3]\n",
            " [4 5 6]\n",
            " [7 8 9]]\n",
            "Type of 2D Array: <class 'numpy.ndarray'>\n",
            "Sum of elements in 2D array: 45\n",
            "Transpose of 2D array:\n",
            " [[1 4 7]\n",
            " [2 5 8]\n",
            " [3 6 9]]\n"
          ]
        }
      ]
    },
    {
      "cell_type": "code",
      "source": [
        "array_3d = np.array([[[1, 2, 3], [4, 5, 6]],[[7, 8, 9], [10, 11, 12]]])\n",
        "print(\"3D Array:\\n\", array_3d)\n",
        "print(\"Type of 3D Array:\", type(array_3d))\n",
        "print(\"Sum of elements in 3D array:\", np.sum(array_3d))\n",
        "print(\"Shape of 3D array:\", array_3d.shape)\n"
      ],
      "metadata": {
        "colab": {
          "base_uri": "https://localhost:8080/"
        },
        "id": "mk9BRc4f_2Zz",
        "outputId": "23f5c56e-4666-400a-fb05-687173c03ec6"
      },
      "execution_count": null,
      "outputs": [
        {
          "output_type": "stream",
          "name": "stdout",
          "text": [
            "3D Array:\n",
            " [[[ 1  2  3]\n",
            "  [ 4  5  6]]\n",
            "\n",
            " [[ 7  8  9]\n",
            "  [10 11 12]]]\n",
            "Type of 3D Array: <class 'numpy.ndarray'>\n",
            "Sum of elements in 3D array: 78\n",
            "Shape of 3D array: (2, 2, 3)\n"
          ]
        }
      ]
    },
    {
      "cell_type": "code",
      "source": [
        "# Creating a 4D array\n",
        "array_4d = np.array([[[[1, 2], [3, 4]], [[5, 6], [7, 8]]],\n",
        "                     [[[9, 10], [11, 12]], [[13, 14], [15, 16]]]])\n",
        "print(\"4D Array:\\n\", array_4d)\n",
        "print(\"Type of 4D Array:\", type(array_4d))\n",
        "print(\"Sum of elements in 4D array:\", np.sum(array_4d))\n",
        "print(\"Shape of 4D array:\", array_4d.shape)\n"
      ],
      "metadata": {
        "colab": {
          "base_uri": "https://localhost:8080/"
        },
        "id": "43_2Z5zk_4B5",
        "outputId": "e980a470-d9ea-490d-92bc-43708db02553"
      },
      "execution_count": null,
      "outputs": [
        {
          "output_type": "stream",
          "name": "stdout",
          "text": [
            "4D Array:\n",
            " [[[[ 1  2]\n",
            "   [ 3  4]]\n",
            "\n",
            "  [[ 5  6]\n",
            "   [ 7  8]]]\n",
            "\n",
            "\n",
            " [[[ 9 10]\n",
            "   [11 12]]\n",
            "\n",
            "  [[13 14]\n",
            "   [15 16]]]]\n",
            "Type of 4D Array: <class 'numpy.ndarray'>\n",
            "Sum of elements in 4D array: 136\n",
            "Shape of 4D array: (2, 2, 2, 2)\n"
          ]
        }
      ]
    },
    {
      "cell_type": "code",
      "source": [],
      "metadata": {
        "id": "4K5mCziq_7L0"
      },
      "execution_count": null,
      "outputs": []
    }
  ]
}